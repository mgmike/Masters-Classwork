{
 "cells": [
  {
   "cell_type": "code",
   "execution_count": 3,
   "metadata": {},
   "outputs": [
    {
     "name": "stdout",
     "output_type": "stream",
     "text": [
      "czt wvwz cjkz tjp vmz cvqdib v bmzvo yvt d ocjpbco hvfdib v xvznvm xdkczm rjpgy wz api oj yj rcdgz opojmdib ojyvt gjg\n",
      "bys vuvy bijy sio uly bupcha u alyun xus c nbioabn guecha u wuymul wcjbyl qiofx vy zoh ni xi qbcfy nonilcha nixus fif\n",
      "axr utux ahix rhn tkx atobgz t zkxtm wtr b mahnzam ftdbgz t vtxltk vbiaxk phnew ux yng mh wh pabex mnmhkbgz mhwtr ehe\n",
      "zwq tstw zghw qgm sjw zsnafy s yjwsl vsq a lzgmyzl escafy s uswksj uahzwj ogmdv tw xmf lg vg ozadw lmlgjafy lgvsq dgd\n",
      "yvp srsv yfgv pfl riv yrmzex r xivrk urp z kyflxyk drbzex r trvjri tzgyvi nflcu sv wle kf uf nyzcv klkfizex kfurp cfc\n",
      "xuo rqru xefu oek qhu xqlydw q whuqj tqo y jxekwxj cqaydw q squiqh syfxuh mekbt ru vkd je te mxybu jkjehydw jetqo beb\n",
      "wtn qpqt wdet ndj pgt wpkxcv p vgtpi spn x iwdjvwi bpzxcv p rpthpg rxewtg ldjas qt ujc id sd lwxat ijidgxcv idspn ada\n",
      "vsm pops vcds mci ofs vojwbu o ufsoh rom w hvciuvh aoywbu o qosgof qwdvsf kcizr ps tib hc rc kvwzs hihcfwbu hcrom zcz\n",
      "url onor ubcr lbh ner univat n terng qnl v gubhtug znxvat n pnrfne pvcure jbhyq or sha gb qb juvyr ghgbevat gbqnl yby\n",
      "tqk nmnq tabq kag mdq tmhuzs m sdqmf pmk u ftagstf ymwuzs m omqemd oubtqd iagxp nq rgz fa pa ituxq fgfaduzs fapmk xax\n",
      "spj mlmp szap jzf lcp slgtyr l rcple olj t eszfrse xlvtyr l nlpdlc ntaspc hzfwo mp qfy ez oz hstwp efezctyr ezolj wzw\n",
      "roi lklo ryzo iye kbo rkfsxq k qbokd nki s dryeqrd wkusxq k mkockb mszrob gyevn lo pex dy ny grsvo dedybsxq dynki vyv\n",
      "qnh kjkn qxyn hxd jan qjerwp j panjc mjh r cqxdpqc vjtrwp j ljnbja lryqna fxdum kn odw cx mx fqrun cdcxarwp cxmjh uxu\n",
      "pmg jijm pwxm gwc izm pidqvo i ozmib lig q bpwcopb uisqvo i kimaiz kqxpmz ewctl jm ncv bw lw epqtm bcbwzqvo bwlig twt\n",
      "olf ihil ovwl fvb hyl ohcpun h nylha khf p aovbnoa thrpun h jhlzhy jpwoly dvbsk il mbu av kv dopsl abavypun avkhf svs\n",
      "nke hghk nuvk eua gxk ngbotm g mxkgz jge o znuamnz sgqotm g igkygx iovnkx cuarj hk lat zu ju cnork zazuxotm zujge rur\n",
      "mjd gfgj mtuj dtz fwj mfansl f lwjfy ifd n ymtzlmy rfpnsl f hfjxfw hnumjw btzqi gj kzs yt it bmnqj yzytwnsl ytifd qtq\n",
      "lic fefi lsti csy evi lezmrk e kviex hec m xlsyklx qeomrk e geiwev gmtliv asyph fi jyr xs hs almpi xyxsvmrk xshec psp\n",
      "khb edeh krsh brx duh kdylqj d juhdw gdb l wkrxjkw pdnlqj d fdhvdu flskhu zrxog eh ixq wr gr zkloh wxwrulqj wrgdb oro\n",
      "jga dcdg jqrg aqw ctg jcxkpi c itgcv fca k vjqwijv ocmkpi c ecguct ekrjgt yqwnf dg hwp vq fq yjkng vwvqtkpi vqfca nqn\n",
      "ifz cbcf ipqf zpv bsf ibwjoh b hsfbu ebz j uipvhiu nbljoh b dbftbs djqifs xpvme cf gvo up ep xijmf uvupsjoh upebz mpm\n",
      "hey babe hope you are having a great day i thought making a caesar cipher would be fun to do while tutoring today lol\n",
      "gdx azad gnod xnt zqd gzuhmf z fqdzs czx h sgntfgs lzjhmf z bzdrzq bhogdq vntkc ad etm sn cn vghkd stsnqhmf snczx knk\n",
      "fcw zyzc fmnc wms ypc fytgle y epcyr byw g rfmsefr kyigle y aycqyp agnfcp umsjb zc dsl rm bm ufgjc rsrmpgle rmbyw jmj\n",
      "ebv yxyb elmb vlr xob exsfkd x dobxq axv f qelrdeq jxhfkd x zxbpxo zfmebo tlria yb crk ql al tefib qrqlofkd qlaxv ili\n",
      "dau xwxa dkla ukq wna dwrejc w cnawp zwu e pdkqcdp iwgejc w ywaown yeldan skqhz xa bqj pk zk sdeha pqpknejc pkzwu hkh\n"
     ]
    },
    {
     "ename": "NameError",
     "evalue": "name 'now' is not defined",
     "output_type": "error",
     "traceback": [
      "\u001b[0;31m---------------------------------------------------------------------------\u001b[0m",
      "\u001b[0;31mNameError\u001b[0m                                 Traceback (most recent call last)",
      "\u001b[0;32m<ipython-input-3-ecce8008ed1d>\u001b[0m in \u001b[0;36m<module>\u001b[0;34m()\u001b[0m\n\u001b[1;32m     18\u001b[0m \u001b[0;34m\u001b[0m\u001b[0m\n\u001b[1;32m     19\u001b[0m \u001b[0mnew\u001b[0m \u001b[0;34m=\u001b[0m \u001b[0;34m'Now its your turn to decypher haha'\u001b[0m\u001b[0;34m\u001b[0m\u001b[0;34m\u001b[0m\u001b[0m\n\u001b[0;32m---> 20\u001b[0;31m \u001b[0mdecypher\u001b[0m\u001b[0;34m(\u001b[0m\u001b[0mstr\u001b[0m\u001b[0;34m.\u001b[0m\u001b[0mlower\u001b[0m\u001b[0;34m(\u001b[0m\u001b[0mnow\u001b[0m\u001b[0;34m)\u001b[0m\u001b[0;34m,\u001b[0m \u001b[0;36m6\u001b[0m\u001b[0;34m)\u001b[0m\u001b[0;34m\u001b[0m\u001b[0;34m\u001b[0m\u001b[0m\n\u001b[0m",
      "\u001b[0;31mNameError\u001b[0m: name 'now' is not defined"
     ]
    }
   ],
   "source": [
    "def decypher(code, diff):\n",
    "    result = ''\n",
    "    for i in range(len(code)):\n",
    "        char = code[i]\n",
    "        if ord(char) >= ord('a') and ord(char) <= ord('z'):\n",
    "            new = ord(char) - diff\n",
    "            if new < ord('a'):\n",
    "                new = ord('z') + 1 - (ord('a') - new)\n",
    "            result += chr(new)\n",
    "        else:\n",
    "            result += char\n",
    "    print(result)\n",
    "\n",
    "code = 'czt wvwz cjkz tjp vmz cvqdib v bmzvo yvt d ocjpbco hvfdib v xvznvm xdkczm rjpgy wz api oj yj rcdgz opojmdib ojyvt gjg'\n",
    "for j in range(26):\n",
    "    diff = j\n",
    "    decypher(code, diff)\n",
    "    \n",
    "new = 'Now its your turn to decypher haha'\n",
    "decypher(str.lower(now), 6)\n"
   ]
  }
 ],
 "metadata": {
  "kernelspec": {
   "display_name": "Python 3",
   "language": "python",
   "name": "python3"
  },
  "language_info": {
   "codemirror_mode": {
    "name": "ipython",
    "version": 3
   },
   "file_extension": ".py",
   "mimetype": "text/x-python",
   "name": "python",
   "nbconvert_exporter": "python",
   "pygments_lexer": "ipython3",
   "version": "3.6.9"
  }
 },
 "nbformat": 4,
 "nbformat_minor": 2
}
