{
 "cells": [
  {
   "cell_type": "code",
   "execution_count": 1,
   "metadata": {},
   "outputs": [
    {
     "name": "stdout",
     "output_type": "stream",
     "text": [
      "Train samples:  (50000, 32, 32, 3) (50000, 1)\n",
      "Test samples:  (10000, 32, 32, 3) (10000, 1)\n",
      "[6]\n"
     ]
    }
   ],
   "source": [
    "from tensorflow.keras.datasets import cifar10\n",
    "(x_train, y_train), (x_test, y_test) = cifar10.load_data()\n",
    "print('Train samples: ', x_train.shape, y_train.shape)\n",
    "print('Test samples: ', x_test.shape, y_test.shape)\n",
    "print(y_train[0])"
   ]
  },
  {
   "cell_type": "code",
   "execution_count": 2,
   "metadata": {},
   "outputs": [
    {
     "data": {
      "text/plain": [
       "<Figure size 1500x400 with 1 Axes>"
      ]
     },
     "metadata": {},
     "output_type": "display_data"
    }
   ],
   "source": [
    "import numpy as np\n",
    "import pandas as pd\n",
    "import matplotlib.pyplot as plt\n",
    "\n",
    "from tensorflow.keras.models import Sequential, Model\n",
    "from tensorflow.keras.layers import BatchNormalization, Conv2D, MaxPooling2D, Flatten, Dense, Activation, Dropout, ZeroPadding2D, Add, LeakyReLU\n",
    "from tensorflow.keras import utils, Input, initializers\n",
    "from tensorflow.keras.optimizers import Adam\n",
    "from tensorflow.keras.preprocessing.image import ImageDataGenerator\n",
    "from tensorflow.keras.initializers import glorot_uniform\n",
    "\n",
    "NUM_CLASSES = 10\n",
    "cifar10_classes = ['airplane', 'automobile', 'bird', 'cat', 'deer', 'dog', 'frog', 'horse','ship', 'truck']\n",
    "\n",
    "#show random images from training data\n",
    "cols = 8\n",
    "rows = 2\n",
    "fig = plt.figure(figsize=(2 * cols - 1, 2.5*rows-1))\n",
    "for i in range(cols):\n",
    "    for j in range(rows):\n",
    "        random_index = np.random.randint(0, len(y_train))\n",
    "        ax = fig.add_subplot(rows, cols, i * rows + j + 1)\n",
    "        ax.grid('off')\n",
    "        ax.axis('off')\n",
    "        ax.imshow(x_train[random_index, :])\n",
    "        ax.set_title(cifar10_classes[y_train[random_index, 0]])\n",
    "        plt.show()"
   ]
  },
  {
   "cell_type": "code",
   "execution_count": 3,
   "metadata": {},
   "outputs": [],
   "source": [
    "# convert data to floats\n",
    "X_train = x_train.astype('float32')\n",
    "X_test = x_test.astype('float32')\n",
    "\n",
    "# normalize data to 0-1\n",
    "X_train /= 255\n",
    "X_test /= 255\n",
    "\n",
    "# one hot encode y\n",
    "Y_train = utils.to_categorical(y_train, len(cifar10_classes))\n",
    "Y_test = utils.to_categorical(y_test, len(cifar10_classes))\n",
    "\n",
    "# set up validation data\n",
    "x_val = X_train[:10000]\n",
    "partial_x_train = X_train[10000:]\n",
    "y_val = Y_train[:10000]\n",
    "partial_y_train = Y_train[10000:]\n",
    "\n",
    "gen = ImageDataGenerator(rotation_range=8, \n",
    "                         width_shift_range=0.08, \n",
    "                         shear_range=0.3, \n",
    "                         height_shift_range=0.08, \n",
    "                         zoom_range=0.08)\n",
    "\n",
    "val_gen = ImageDataGenerator()\n",
    "train_generator = gen.flow(partial_x_train, partial_y_train, batch_size=64)\n",
    "val_generator = val_gen.flow(x_val, y_val, batch_size=64)\n"
   ]
  },
  {
   "cell_type": "code",
   "execution_count": 4,
   "metadata": {},
   "outputs": [],
   "source": [
    "def build_resnet50(dropout = 0.0):\n",
    "    X_input = Input((32,32,3))\n",
    "    X = ZeroPadding2D(padding=(3,3), data_format=None)(X_input)\n",
    "    X = Conv2D(64, (7,7), strides=(2,2), name = 'conv1', kernel_initializer=glorot_uniform(seed=0))(X)\n",
    "    X = BatchNormalization( axis=3, name='bn_conv1')(X)\n",
    "    X = Activation('relu')(X)\n",
    "    X = MaxPooling2D((3,3), strides=(2,2))(X)\n",
    "    # Stage 2 for ResNet\n",
    "\n",
    "    # Save the input value. You'll need this later to add back to the main path.\n",
    "    X_shortcut = X\n",
    "\n",
    "    X = ZeroPadding2D(padding=(1,1), data_format=None)(X)\n",
    "    X = Conv2D(64, (3,3), strides=(1,1), name = 'conv2', kernel_initializer=glorot_uniform(seed=0))(X)\n",
    "    X = BatchNormalization(axis=3, name='bn_conv2')(X)\n",
    "    X = Activation('relu')(X)\n",
    "\n",
    "    X = ZeroPadding2D(padding=(1,1), data_format=None)(X)\n",
    "    X = Conv2D(64, (3,3), strides=(1,1), name='conv3', kernel_initializer=glorot_uniform(seed=0))(X)\n",
    "    X = BatchNormalization(axis=3, name='bn_conv3')(X)\n",
    "\n",
    "    # Add X_shortcut before doing final activation\n",
    "    X = Add()([X, X_shortcut])\n",
    "    X = Activation('relu')(X)\n",
    "\n",
    "    X = Flatten()(X)\n",
    "    X = Dropout(dropout)(X)\n",
    "    X = Dense(NUM_CLASSES, activation='softmax', name='fc' + str(NUM_CLASSES), kernel_initializer=glorot_uniform(seed=0))(X)\n",
    "    \n",
    "    return X_input, X"
   ]
  },
  {
   "cell_type": "markdown",
   "metadata": {},
   "source": [
    "Create resnet without dropout. "
   ]
  },
  {
   "cell_type": "code",
   "execution_count": 5,
   "metadata": {},
   "outputs": [
    {
     "name": "stdout",
     "output_type": "stream",
     "text": [
      "Model: \"ResNet50\"\n",
      "__________________________________________________________________________________________________\n",
      "Layer (type)                    Output Shape         Param #     Connected to                     \n",
      "==================================================================================================\n",
      "input_1 (InputLayer)            [(None, 32, 32, 3)]  0                                            \n",
      "__________________________________________________________________________________________________\n",
      "zero_padding2d (ZeroPadding2D)  (None, 38, 38, 3)    0           input_1[0][0]                    \n",
      "__________________________________________________________________________________________________\n",
      "conv1 (Conv2D)                  (None, 16, 16, 64)   9472        zero_padding2d[0][0]             \n",
      "__________________________________________________________________________________________________\n",
      "bn_conv1 (BatchNormalization)   (None, 16, 16, 64)   256         conv1[0][0]                      \n",
      "__________________________________________________________________________________________________\n",
      "activation (Activation)         (None, 16, 16, 64)   0           bn_conv1[0][0]                   \n",
      "__________________________________________________________________________________________________\n",
      "max_pooling2d (MaxPooling2D)    (None, 7, 7, 64)     0           activation[0][0]                 \n",
      "__________________________________________________________________________________________________\n",
      "zero_padding2d_1 (ZeroPadding2D (None, 9, 9, 64)     0           max_pooling2d[0][0]              \n",
      "__________________________________________________________________________________________________\n",
      "conv2 (Conv2D)                  (None, 7, 7, 64)     36928       zero_padding2d_1[0][0]           \n",
      "__________________________________________________________________________________________________\n",
      "bn_conv2 (BatchNormalization)   (None, 7, 7, 64)     256         conv2[0][0]                      \n",
      "__________________________________________________________________________________________________\n",
      "activation_1 (Activation)       (None, 7, 7, 64)     0           bn_conv2[0][0]                   \n",
      "__________________________________________________________________________________________________\n",
      "zero_padding2d_2 (ZeroPadding2D (None, 9, 9, 64)     0           activation_1[0][0]               \n",
      "__________________________________________________________________________________________________\n",
      "conv3 (Conv2D)                  (None, 7, 7, 64)     36928       zero_padding2d_2[0][0]           \n",
      "__________________________________________________________________________________________________\n",
      "bn_conv3 (BatchNormalization)   (None, 7, 7, 64)     256         conv3[0][0]                      \n",
      "__________________________________________________________________________________________________\n",
      "add (Add)                       (None, 7, 7, 64)     0           bn_conv3[0][0]                   \n",
      "                                                                 max_pooling2d[0][0]              \n",
      "__________________________________________________________________________________________________\n",
      "activation_2 (Activation)       (None, 7, 7, 64)     0           add[0][0]                        \n",
      "__________________________________________________________________________________________________\n",
      "flatten (Flatten)               (None, 3136)         0           activation_2[0][0]               \n",
      "__________________________________________________________________________________________________\n",
      "dropout (Dropout)               (None, 3136)         0           flatten[0][0]                    \n",
      "__________________________________________________________________________________________________\n",
      "fc10 (Dense)                    (None, 10)           31370       dropout[0][0]                    \n",
      "==================================================================================================\n",
      "Total params: 115,466\n",
      "Trainable params: 115,082\n",
      "Non-trainable params: 384\n",
      "__________________________________________________________________________________________________\n"
     ]
    }
   ],
   "source": [
    "X_input1, X1 = build_resnet50()\n",
    "model1 = Model(inputs = X_input1, outputs = X1, name='ResNet50')\n",
    "model1.summary()"
   ]
  },
  {
   "cell_type": "code",
   "execution_count": 6,
   "metadata": {},
   "outputs": [
    {
     "name": "stdout",
     "output_type": "stream",
     "text": [
      "Epoch 1/10\n",
      "625/625 [==============================] - 18s 28ms/step - loss: 1.8871 - accuracy: 0.3775 - val_loss: 1.5134 - val_accuracy: 0.4941\n",
      "Epoch 2/10\n",
      "625/625 [==============================] - 17s 27ms/step - loss: 1.2902 - accuracy: 0.5466 - val_loss: 1.4677 - val_accuracy: 0.4897\n",
      "Epoch 3/10\n",
      "625/625 [==============================] - 18s 29ms/step - loss: 1.1209 - accuracy: 0.6034 - val_loss: 1.0977 - val_accuracy: 0.6215\n",
      "Epoch 4/10\n",
      "625/625 [==============================] - 18s 28ms/step - loss: 1.0230 - accuracy: 0.6404 - val_loss: 1.1452 - val_accuracy: 0.6086\n",
      "Epoch 5/10\n",
      "625/625 [==============================] - 17s 28ms/step - loss: 0.9497 - accuracy: 0.6671 - val_loss: 1.1191 - val_accuracy: 0.6241\n",
      "Epoch 6/10\n",
      "625/625 [==============================] - 18s 29ms/step - loss: 0.8931 - accuracy: 0.6876 - val_loss: 1.7346 - val_accuracy: 0.5281\n",
      "Epoch 7/10\n",
      "625/625 [==============================] - 18s 29ms/step - loss: 0.8478 - accuracy: 0.7045 - val_loss: 1.0235 - val_accuracy: 0.6510\n",
      "Epoch 8/10\n",
      "625/625 [==============================] - 18s 29ms/step - loss: 0.8019 - accuracy: 0.7197 - val_loss: 1.1015 - val_accuracy: 0.6365\n",
      "Epoch 9/10\n",
      "625/625 [==============================] - 18s 28ms/step - loss: 0.7687 - accuracy: 0.7295 - val_loss: 0.9673 - val_accuracy: 0.6869\n",
      "Epoch 10/10\n",
      "625/625 [==============================] - 18s 28ms/step - loss: 0.7280 - accuracy: 0.7413 - val_loss: 0.8812 - val_accuracy: 0.7005\n",
      "313/313 [==============================] - 1s 3ms/step - loss: 0.8954 - accuracy: 0.6991\n",
      "\n",
      "Test accuracy:  0.6991000175476074\n"
     ]
    }
   ],
   "source": [
    "model1.compile(loss='categorical_crossentropy', optimizer=Adam(), metrics=['accuracy'])\n",
    "model1.fit(\n",
    "    train_generator, \n",
    "    steps_per_epoch=len(partial_x_train)//64, \n",
    "    epochs=10, \n",
    "    validation_data=val_generator, \n",
    "    validation_steps=len(x_val)//64)\n",
    "\n",
    "score = model1.evaluate(X_test, Y_test)\n",
    "print()\n",
    "print('Test accuracy: ', score[1])"
   ]
  },
  {
   "cell_type": "markdown",
   "metadata": {},
   "source": [
    "The resulting resnet has a training accuracy of 74.13% and a validation accuracy of 70.05% after 10 epochs. Due to the gap of about 4%, the model is slightly overfitted."
   ]
  },
  {
   "cell_type": "code",
   "execution_count": 7,
   "metadata": {},
   "outputs": [
    {
     "name": "stdout",
     "output_type": "stream",
     "text": [
      "Model: \"ResNet50Dropout\"\n",
      "__________________________________________________________________________________________________\n",
      "Layer (type)                    Output Shape         Param #     Connected to                     \n",
      "==================================================================================================\n",
      "input_2 (InputLayer)            [(None, 32, 32, 3)]  0                                            \n",
      "__________________________________________________________________________________________________\n",
      "zero_padding2d_3 (ZeroPadding2D (None, 38, 38, 3)    0           input_2[0][0]                    \n",
      "__________________________________________________________________________________________________\n",
      "conv1 (Conv2D)                  (None, 16, 16, 64)   9472        zero_padding2d_3[0][0]           \n",
      "__________________________________________________________________________________________________\n",
      "bn_conv1 (BatchNormalization)   (None, 16, 16, 64)   256         conv1[0][0]                      \n",
      "__________________________________________________________________________________________________\n",
      "activation_3 (Activation)       (None, 16, 16, 64)   0           bn_conv1[0][0]                   \n",
      "__________________________________________________________________________________________________\n",
      "max_pooling2d_1 (MaxPooling2D)  (None, 7, 7, 64)     0           activation_3[0][0]               \n",
      "__________________________________________________________________________________________________\n",
      "zero_padding2d_4 (ZeroPadding2D (None, 9, 9, 64)     0           max_pooling2d_1[0][0]            \n",
      "__________________________________________________________________________________________________\n",
      "conv2 (Conv2D)                  (None, 7, 7, 64)     36928       zero_padding2d_4[0][0]           \n",
      "__________________________________________________________________________________________________\n",
      "bn_conv2 (BatchNormalization)   (None, 7, 7, 64)     256         conv2[0][0]                      \n",
      "__________________________________________________________________________________________________\n",
      "activation_4 (Activation)       (None, 7, 7, 64)     0           bn_conv2[0][0]                   \n",
      "__________________________________________________________________________________________________\n",
      "zero_padding2d_5 (ZeroPadding2D (None, 9, 9, 64)     0           activation_4[0][0]               \n",
      "__________________________________________________________________________________________________\n",
      "conv3 (Conv2D)                  (None, 7, 7, 64)     36928       zero_padding2d_5[0][0]           \n",
      "__________________________________________________________________________________________________\n",
      "bn_conv3 (BatchNormalization)   (None, 7, 7, 64)     256         conv3[0][0]                      \n",
      "__________________________________________________________________________________________________\n",
      "add_1 (Add)                     (None, 7, 7, 64)     0           bn_conv3[0][0]                   \n",
      "                                                                 max_pooling2d_1[0][0]            \n",
      "__________________________________________________________________________________________________\n",
      "activation_5 (Activation)       (None, 7, 7, 64)     0           add_1[0][0]                      \n",
      "__________________________________________________________________________________________________\n",
      "flatten_1 (Flatten)             (None, 3136)         0           activation_5[0][0]               \n",
      "__________________________________________________________________________________________________\n",
      "dropout_1 (Dropout)             (None, 3136)         0           flatten_1[0][0]                  \n",
      "__________________________________________________________________________________________________\n",
      "fc10 (Dense)                    (None, 10)           31370       dropout_1[0][0]                  \n",
      "==================================================================================================\n",
      "Total params: 115,466\n",
      "Trainable params: 115,082\n",
      "Non-trainable params: 384\n",
      "__________________________________________________________________________________________________\n"
     ]
    }
   ],
   "source": [
    "X_input2, X2 = build_resnet50(0.5)\n",
    "model2 = Model(inputs = X_input2, outputs = X2, name='ResNet50Dropout')\n",
    "model2.summary()"
   ]
  },
  {
   "cell_type": "code",
   "execution_count": 8,
   "metadata": {},
   "outputs": [
    {
     "name": "stdout",
     "output_type": "stream",
     "text": [
      "Epoch 1/10\n",
      "625/625 [==============================] - 18s 28ms/step - loss: 2.3689 - accuracy: 0.3076 - val_loss: 1.5897 - val_accuracy: 0.4243\n",
      "Epoch 2/10\n",
      "625/625 [==============================] - 17s 27ms/step - loss: 1.4349 - accuracy: 0.4880 - val_loss: 1.6772 - val_accuracy: 0.4555\n",
      "Epoch 3/10\n",
      "625/625 [==============================] - 17s 27ms/step - loss: 1.2299 - accuracy: 0.5636 - val_loss: 1.1002 - val_accuracy: 0.6128\n",
      "Epoch 4/10\n",
      "625/625 [==============================] - 18s 28ms/step - loss: 1.1220 - accuracy: 0.6041 - val_loss: 1.6061 - val_accuracy: 0.4840\n",
      "Epoch 5/10\n",
      "625/625 [==============================] - 17s 26ms/step - loss: 1.0434 - accuracy: 0.6264 - val_loss: 1.6978 - val_accuracy: 0.5134\n",
      "Epoch 6/10\n",
      "625/625 [==============================] - 16s 26ms/step - loss: 0.9914 - accuracy: 0.6492 - val_loss: 1.0059 - val_accuracy: 0.6525\n",
      "Epoch 7/10\n",
      "625/625 [==============================] - 16s 26ms/step - loss: 0.9534 - accuracy: 0.6622 - val_loss: 1.0721 - val_accuracy: 0.6371\n",
      "Epoch 8/10\n",
      "625/625 [==============================] - 16s 26ms/step - loss: 0.9073 - accuracy: 0.6843 - val_loss: 1.0203 - val_accuracy: 0.6514\n",
      "Epoch 9/10\n",
      "625/625 [==============================] - 17s 27ms/step - loss: 0.8798 - accuracy: 0.6892 - val_loss: 0.9205 - val_accuracy: 0.6805\n",
      "Epoch 10/10\n",
      "625/625 [==============================] - 16s 26ms/step - loss: 0.8629 - accuracy: 0.6944 - val_loss: 0.9076 - val_accuracy: 0.6829\n",
      "313/313 [==============================] - 1s 3ms/step - loss: 0.9376 - accuracy: 0.6742\n",
      "\n",
      "Test accuracy:  0.6741999983787537\n"
     ]
    }
   ],
   "source": [
    "model2.compile(loss='categorical_crossentropy', optimizer=Adam(), metrics=['accuracy'])\n",
    "model2.fit(\n",
    "    train_generator, \n",
    "    steps_per_epoch=len(partial_x_train)//64, \n",
    "    epochs=10, \n",
    "    validation_data=val_generator, \n",
    "    validation_steps=len(x_val)//64)\n",
    "\n",
    "score = model2.evaluate(X_test, Y_test)\n",
    "print()\n",
    "print('Test accuracy: ', score[1])"
   ]
  },
  {
   "cell_type": "markdown",
   "metadata": {},
   "source": [
    "The resulting resnet with 50% dropout has a traning accuracy of 69.44% and a validation accuracy of 68.29%. The model is not overfit however it is slightly worse than the resnet with no dropout."
   ]
  }
 ],
 "metadata": {
  "kernelspec": {
   "display_name": "Python 3",
   "language": "python",
   "name": "python3"
  },
  "language_info": {
   "codemirror_mode": {
    "name": "ipython",
    "version": 3
   },
   "file_extension": ".py",
   "mimetype": "text/x-python",
   "name": "python",
   "nbconvert_exporter": "python",
   "pygments_lexer": "ipython3",
   "version": "3.6.9"
  }
 },
 "nbformat": 4,
 "nbformat_minor": 2
}
