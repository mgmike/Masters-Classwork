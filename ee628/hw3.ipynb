{
 "cells": [
  {
   "cell_type": "markdown",
   "metadata": {
    "id": "1ewp-Eacr5or"
   },
   "source": [
    "# Michael Eng HW3\n"
   ]
  },
  {
   "cell_type": "markdown",
   "metadata": {
    "id": "DmuIUwE9sFQj"
   },
   "source": [
    "# Part A"
   ]
  },
  {
   "cell_type": "code",
   "execution_count": 5,
   "metadata": {
    "id": "g0gGu8MUCgbg"
   },
   "outputs": [
    {
     "name": "stderr",
     "output_type": "stream",
     "text": [
      "[nltk_data] Downloading package wordnet to /home/mike/nltk_data...\n",
      "[nltk_data]   Unzipping corpora/wordnet.zip.\n"
     ]
    }
   ],
   "source": [
    "import numpy as np\n",
    "import nltk\n",
    "nltk.download('wordnet')\n",
    "\n",
    "#assuming words_to_index is a list of words,\n",
    "def my_bag_of_words(text, words_to_index, dict_size):\n",
    "  result_vector = np.zeros(dict_size)\n",
    "\n",
    "  popular_words_index_dict = {}\n",
    "  for i,word in enumerate(words_to_index):\n",
    "    popular_words_index_dict[word] = i\n",
    "\n",
    "  tokenizer=nltk.tokenize.TreebankWordTokenizer()\n",
    "  stemmer = nltk.stem.PorterStemmer()\n",
    "  lemmer = nltk.stem.WordNetLemmatizer()\n",
    "\n",
    "  for word in tokenizer.tokenize(text):\n",
    "    word_stemmed_lemmed = stemmer.stem(lemmer.lemmatize(word.lower()))\n",
    "    if word_stemmed_lemmed in popular_words_index_dict:\n",
    "      result_vector[popular_words_index_dict[word_stemmed_lemmed]] += 1\n",
    "\n",
    "  return result_vector "
   ]
  },
  {
   "cell_type": "code",
   "execution_count": 6,
   "metadata": {
    "colab": {
     "base_uri": "https://localhost:8080/"
    },
    "id": "hbf5pDc3_Ga7",
    "outputId": "83d6db0f-7d35-4af7-d618-b49a5dad34ce"
   },
   "outputs": [
    {
     "data": {
      "text/plain": [
       "array([1., 2., 1., 2.])"
      ]
     },
     "execution_count": 6,
     "metadata": {},
     "output_type": "execute_result"
    }
   ],
   "source": [
    "popular_words_list = ['hi', 'you', 'me', 'are']\n",
    "text = \"Hi, you aren't me but you are still a coolish guy. Wolves wish they'll talked\"\n",
    "my_bag_of_words(text, popular_words_list,4)"
   ]
  },
  {
   "cell_type": "markdown",
   "metadata": {
    "id": "qUJf8NmHsK_5"
   },
   "source": [
    "# Part B\n"
   ]
  },
  {
   "cell_type": "code",
   "execution_count": 14,
   "metadata": {
    "colab": {
     "base_uri": "https://localhost:8080/",
     "height": 202
    },
    "id": "-iMBPzPhsCmX",
    "outputId": "07157e0a-9a47-4e9f-c2d3-3c825bd6c54e"
   },
   "outputs": [
    {
     "data": {
      "text/html": [
       "<div>\n",
       "<style scoped>\n",
       "    .dataframe tbody tr th:only-of-type {\n",
       "        vertical-align: middle;\n",
       "    }\n",
       "\n",
       "    .dataframe tbody tr th {\n",
       "        vertical-align: top;\n",
       "    }\n",
       "\n",
       "    .dataframe thead th {\n",
       "        text-align: right;\n",
       "    }\n",
       "</style>\n",
       "<table border=\"1\" class=\"dataframe\">\n",
       "  <thead>\n",
       "    <tr style=\"text-align: right;\">\n",
       "      <th></th>\n",
       "      <th>good</th>\n",
       "      <th>good movie</th>\n",
       "      <th>like</th>\n",
       "      <th>movie</th>\n",
       "      <th>not</th>\n",
       "      <th>very</th>\n",
       "    </tr>\n",
       "  </thead>\n",
       "  <tbody>\n",
       "    <tr>\n",
       "      <th>0</th>\n",
       "      <td>0.523742</td>\n",
       "      <td>0.602368</td>\n",
       "      <td>0.000000</td>\n",
       "      <td>0.602368</td>\n",
       "      <td>0.000000</td>\n",
       "      <td>0.0</td>\n",
       "    </tr>\n",
       "    <tr>\n",
       "      <th>1</th>\n",
       "      <td>0.448635</td>\n",
       "      <td>0.515987</td>\n",
       "      <td>0.000000</td>\n",
       "      <td>0.515987</td>\n",
       "      <td>0.515987</td>\n",
       "      <td>0.0</td>\n",
       "    </tr>\n",
       "    <tr>\n",
       "      <th>2</th>\n",
       "      <td>0.000000</td>\n",
       "      <td>0.000000</td>\n",
       "      <td>0.707107</td>\n",
       "      <td>0.000000</td>\n",
       "      <td>0.707107</td>\n",
       "      <td>0.0</td>\n",
       "    </tr>\n",
       "    <tr>\n",
       "      <th>3</th>\n",
       "      <td>0.000000</td>\n",
       "      <td>0.000000</td>\n",
       "      <td>1.000000</td>\n",
       "      <td>0.000000</td>\n",
       "      <td>0.000000</td>\n",
       "      <td>0.0</td>\n",
       "    </tr>\n",
       "    <tr>\n",
       "      <th>4</th>\n",
       "      <td>1.000000</td>\n",
       "      <td>0.000000</td>\n",
       "      <td>0.000000</td>\n",
       "      <td>0.000000</td>\n",
       "      <td>0.000000</td>\n",
       "      <td>0.0</td>\n",
       "    </tr>\n",
       "    <tr>\n",
       "      <th>5</th>\n",
       "      <td>0.000000</td>\n",
       "      <td>0.000000</td>\n",
       "      <td>0.000000</td>\n",
       "      <td>0.000000</td>\n",
       "      <td>0.000000</td>\n",
       "      <td>0.0</td>\n",
       "    </tr>\n",
       "    <tr>\n",
       "      <th>6</th>\n",
       "      <td>0.000000</td>\n",
       "      <td>0.000000</td>\n",
       "      <td>0.000000</td>\n",
       "      <td>0.000000</td>\n",
       "      <td>0.000000</td>\n",
       "      <td>1.0</td>\n",
       "    </tr>\n",
       "    <tr>\n",
       "      <th>7</th>\n",
       "      <td>0.000000</td>\n",
       "      <td>0.000000</td>\n",
       "      <td>0.000000</td>\n",
       "      <td>0.000000</td>\n",
       "      <td>0.000000</td>\n",
       "      <td>0.0</td>\n",
       "    </tr>\n",
       "    <tr>\n",
       "      <th>8</th>\n",
       "      <td>0.000000</td>\n",
       "      <td>0.000000</td>\n",
       "      <td>0.000000</td>\n",
       "      <td>0.000000</td>\n",
       "      <td>0.000000</td>\n",
       "      <td>1.0</td>\n",
       "    </tr>\n",
       "  </tbody>\n",
       "</table>\n",
       "</div>"
      ],
      "text/plain": [
       "       good  good movie      like     movie       not  very\n",
       "0  0.523742    0.602368  0.000000  0.602368  0.000000   0.0\n",
       "1  0.448635    0.515987  0.000000  0.515987  0.515987   0.0\n",
       "2  0.000000    0.000000  0.707107  0.000000  0.707107   0.0\n",
       "3  0.000000    0.000000  1.000000  0.000000  0.000000   0.0\n",
       "4  1.000000    0.000000  0.000000  0.000000  0.000000   0.0\n",
       "5  0.000000    0.000000  0.000000  0.000000  0.000000   0.0\n",
       "6  0.000000    0.000000  0.000000  0.000000  0.000000   1.0\n",
       "7  0.000000    0.000000  0.000000  0.000000  0.000000   0.0\n",
       "8  0.000000    0.000000  0.000000  0.000000  0.000000   1.0"
      ]
     },
     "execution_count": 14,
     "metadata": {},
     "output_type": "execute_result"
    }
   ],
   "source": [
    "# 1 and 2\n",
    "from sklearn.feature_extraction.text import TfidfVectorizer\n",
    "import pandas as pd\n",
    "texts = [\n",
    "    \"good movie\", \"not a good movie\", \"did not like\", \n",
    "    \"i like it\", \"good one\", \"horrible\", \"very bad\", \"least favorite\", \"very enjoyable\"\n",
    "]\n",
    "# using default tokenizer in TfidfVectorizer\n",
    "tfidf = TfidfVectorizer(min_df=2, max_df=0.5, ngram_range=(1, 2))\n",
    "features = tfidf.fit_transform(texts)\n",
    "pd.DataFrame(\n",
    "    features.todense(),\n",
    "    columns=tfidf.get_feature_names()\n",
    ")"
   ]
  },
  {
   "cell_type": "markdown",
   "metadata": {},
   "source": [
    "# Part b, 3\n",
    "\n",
    "texts = [\n",
    "    \"good movie\", \"not a good movie\", \"did not like\", \n",
    "    \"i like it\", \"good one\"\n",
    "]\n",
    "N = 5\n",
    "tf(good,good movie) = 1\n",
    "tf(movie,good movie) = 1\n",
    "idf(good, all docs) = log(5/3) = 0.511\n",
    "idf(movie, all docs) = log(5/2) = 0.916\n",
    "tfidf(good) = 0.511\n",
    "tfidf(movie) = 0.916\n",
    "sum = 0.511 + 0.916 = 1.427"
   ]
  }
 ],
 "metadata": {
  "colab": {
   "collapsed_sections": [],
   "name": "hw3.ipynb",
   "provenance": [],
   "toc_visible": true
  },
  "kernelspec": {
   "display_name": "Python 3",
   "language": "python",
   "name": "python3"
  },
  "language_info": {
   "codemirror_mode": {
    "name": "ipython",
    "version": 3
   },
   "file_extension": ".py",
   "mimetype": "text/x-python",
   "name": "python",
   "nbconvert_exporter": "python",
   "pygments_lexer": "ipython3",
   "version": "3.6.9"
  }
 },
 "nbformat": 4,
 "nbformat_minor": 1
}
