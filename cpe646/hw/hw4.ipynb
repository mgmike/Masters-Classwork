{
 "cells": [
  {
   "cell_type": "code",
   "execution_count": 4,
   "id": "ceramic-constant",
   "metadata": {},
   "outputs": [],
   "source": [
    "import numpy as np\n",
    "import scipy.io as io\n",
    "\n",
    "hw3_1 = io.loadmat(\"hw3.mat\")['hw3_1']\n",
    "hw3_2_1 = io.loadmat(\"hw3.mat\")['hw3_2_1']\n",
    "hw3_2_2 = io.loadmat(\"hw3.mat\")['hw3_2_2']\n",
    "hw4_2_1 = io.loadmat(\"hw4.mat\")['hw4_2_1'].T\n",
    "hw4_2_2 = io.loadmat(\"hw4.mat\")['hw4_2_2'].T"
   ]
  },
  {
   "cell_type": "markdown",
   "id": "determined-reduction",
   "metadata": {},
   "source": [
    "# Part 4.2.1"
   ]
  },
  {
   "cell_type": "code",
   "execution_count": 8,
   "id": "acknowledged-spectacular",
   "metadata": {},
   "outputs": [
    {
     "name": "stdout",
     "output_type": "stream",
     "text": [
      "100\n"
     ]
    }
   ],
   "source": [
    "print(len(hw4_2_1))"
   ]
  },
  {
   "cell_type": "code",
   "execution_count": 12,
   "id": "governing-pursuit",
   "metadata": {
    "scrolled": true
   },
   "outputs": [
    {
     "data": {
      "text/plain": [
       "[<matplotlib.lines.Line2D at 0x7fe8d6d5c190>]"
      ]
     },
     "execution_count": 12,
     "metadata": {},
     "output_type": "execute_result"
    },
    {
     "data": {
      "image/png": "[encoded data removed]",
      "text/plain": [
       "<Figure size 432x288 with 1 Axes>"
      ]
     },
     "metadata": {
      "needs_background": "light"
     },
     "output_type": "display_data"
    }
   ],
   "source": [
    "import matplotlib.pyplot as plt\n",
    "\n",
    "plt.plot(hw4_2_1[:,0], hw4_2_1[:,1], 'b.')\n",
    "plt.plot(hw4_2_2[:,0], hw4_2_2[:,1], 'r.')"
   ]
  },
  {
   "cell_type": "code",
   "execution_count": null,
   "id": "close-donna",
   "metadata": {},
   "outputs": [],
   "source": [
    "x1hat = np.array([[i[0], i[1], i[0] + i[1]] for i in hw4_2_1])"
   ]
  }
 ],
 "metadata": {
  "kernelspec": {
   "display_name": "Python 3",
   "language": "python",
   "name": "python3"
  },
  "language_info": {
   "codemirror_mode": {
    "name": "ipython",
    "version": 3
   },
   "file_extension": ".py",
   "mimetype": "text/x-python",
   "name": "python",
   "nbconvert_exporter": "python",
   "pygments_lexer": "ipython3",
   "version": "3.7.9"
  }
 },
 "nbformat": 4,
 "nbformat_minor": 5
}
