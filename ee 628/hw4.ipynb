{
 "cells": [
  {
   "cell_type": "markdown",
   "metadata": {
    "id": "1ewp-Eacr5or"
   },
   "source": [
    "# Michael Eng HW4\n"
   ]
  },
  {
   "cell_type": "markdown",
   "metadata": {},
   "source": [
    "Location of fashion dataset /home/mike/.local/lib/python3.6/site-packages/keras/datasets/fashion_mnist2.py\n",
    "It was kind of a pain to find lol. There was already a fashion_mnist.py in there so i just called it fashion_mnist2.py"
   ]
  },
  {
   "cell_type": "code",
   "execution_count": 20,
   "metadata": {},
   "outputs": [
    {
     "data": {
      "image/png": "[encoded data removed]",
      "text/plain": [
       "<Figure size 432x288 with 4 Axes>"
      ]
     },
     "metadata": {
      "needs_background": "light"
     },
     "output_type": "display_data"
    },
    {
     "name": "stdout",
     "output_type": "stream",
     "text": [
      "Downloading data from https://s3.amazonaws.com/img-datasets/mnist.npz\n",
      "11493376/11490434 [==============================] - 2s 0us/step\n",
      "Train on 60000 samples, validate on 10000 samples\n",
      "Epoch 1/10\n",
      " - 2s - loss: 0.2508 - accuracy: 0.9271 - val_loss: 0.1411 - val_accuracy: 0.9575\n",
      "Epoch 2/10\n",
      " - 2s - loss: 0.1151 - accuracy: 0.9674 - val_loss: 0.1057 - val_accuracy: 0.9673\n",
      "Epoch 3/10\n",
      " - 2s - loss: 0.0840 - accuracy: 0.9764 - val_loss: 0.0875 - val_accuracy: 0.9740\n",
      "Epoch 4/10\n",
      " - 2s - loss: 0.0665 - accuracy: 0.9817 - val_loss: 0.0806 - val_accuracy: 0.9780\n",
      "Epoch 5/10\n",
      " - 2s - loss: 0.0543 - accuracy: 0.9854 - val_loss: 0.0721 - val_accuracy: 0.9794\n",
      "Epoch 6/10\n",
      " - 2s - loss: 0.0448 - accuracy: 0.9884 - val_loss: 0.0712 - val_accuracy: 0.9786\n",
      "Epoch 7/10\n",
      " - 2s - loss: 0.0382 - accuracy: 0.9905 - val_loss: 0.0674 - val_accuracy: 0.9800\n",
      "Epoch 8/10\n",
      " - 2s - loss: 0.0319 - accuracy: 0.9924 - val_loss: 0.0632 - val_accuracy: 0.9818\n",
      "Epoch 9/10\n",
      " - 2s - loss: 0.0271 - accuracy: 0.9940 - val_loss: 0.0608 - val_accuracy: 0.9812\n",
      "Epoch 10/10\n",
      " - 2s - loss: 0.0232 - accuracy: 0.9954 - val_loss: 0.0599 - val_accuracy: 0.9809\n",
      "Baseline Error: 1.91%\n"
     ]
    }
   ],
   "source": [
    "# Plot ad hoc mnist instances\n",
    "from keras.datasets import fashion_mnist2\n",
    "import matplotlib.pyplot as plt\n",
    "# load (downloaded if needed) the MNIST dataset\n",
    "(X_train, y_train), (X_test, y_test) = fashion_mnist2.load_data()\n",
    "# plot 4 images as gray scale\n",
    "plt.subplot(221)\n",
    "plt.imshow(X_train[0], cmap=plt.get_cmap('gray'))\n",
    "plt.subplot(222)\n",
    "plt.imshow(X_train[1], cmap=plt.get_cmap('gray'))\n",
    "plt.subplot(223)\n",
    "plt.imshow(X_train[2], cmap=plt.get_cmap('gray'))\n",
    "plt.subplot(224)\n",
    "plt.imshow(X_train[3], cmap=plt.get_cmap('gray'))\n",
    "# show the plot\n",
    "plt.show()\n",
    "\n",
    "from keras.datasets import mnist\n",
    "from keras.models import Sequential\n",
    "from keras.layers import Dense\n",
    "from keras.layers import Dropout\n",
    "from keras.utils import np_utils\n",
    "\n",
    "# fix random seed for reproducibility\n",
    "seed = 7\n",
    "np.random.seed(seed)\n",
    "\n",
    "# load data\n",
    "(X_train, y_train), (X_test, y_test) = mnist.load_data()\n",
    "\n",
    "\n",
    "# flatten 28*28 images to a 784 vector for each image\n",
    "num_pixels = X_train.shape[1] * X_train.shape[2]\n",
    "X_train = X_train.reshape(X_train.shape[0], num_pixels).astype('float32')\n",
    "X_test = X_test.reshape(X_test.shape[0], num_pixels).astype('float32')\n",
    "\n",
    "# normalize inputs from 0-255 to 0-1\n",
    "X_train = X_train / 255\n",
    "X_test = X_test / 255\n",
    "\n",
    "# one hot encode outputs\n",
    "y_train = np_utils.to_categorical(y_train)\n",
    "y_test = np_utils.to_categorical(y_test)\n",
    "num_classes = y_test.shape[1]\n",
    "\n",
    "\n",
    "# define baseline model find dimention and number of clusters\n",
    "#\n",
    "def baseline_model():\n",
    "    # create model\n",
    "    model = Sequential()\n",
    "    model.add(Dense(num_pixels, input_dim=num_pixels, kernel_initializer='normal', activation='relu'))\n",
    "    model.add(Dense(num_classes, kernel_initializer='normal', activation='softmax'))\n",
    "    # Compile model\n",
    "    model.compile(loss='categorical_crossentropy', optimizer='adam', metrics=['accuracy'])\n",
    "    return model\n",
    "\n",
    "\n",
    "# build the model\n",
    "model = baseline_model()\n",
    "# Fit the model\n",
    "model.fit(X_train, y_train, validation_data=(X_test, y_test), epochs=10, batch_size=200, verbose=2)\n",
    "# Final evaluation of the model\n",
    "scores = model.evaluate(X_test, y_test, verbose=0)\n",
    "print(\"Baseline Error: %.2f%%\" % (100-scores[1]*100))"
   ]
  }
 ],
 "metadata": {
  "colab": {
   "collapsed_sections": [],
   "name": "hw3.ipynb",
   "provenance": []
  },
  "kernelspec": {
   "display_name": "Python 3",
   "language": "python",
   "name": "python3"
  },
  "language_info": {
   "codemirror_mode": {
    "name": "ipython",
    "version": 3
   },
   "file_extension": ".py",
   "mimetype": "text/x-python",
   "name": "python",
   "nbconvert_exporter": "python",
   "pygments_lexer": "ipython3",
   "version": "3.6.9"
  }
 },
 "nbformat": 4,
 "nbformat_minor": 1
}
