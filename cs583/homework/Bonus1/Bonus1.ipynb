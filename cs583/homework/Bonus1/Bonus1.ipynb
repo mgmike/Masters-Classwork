{
 "cells": [
  {
   "cell_type": "markdown",
   "metadata": {},
   "source": [
    "# Bonus1: Parallel Algorithms\n",
    "\n",
    "### Name: Michael Eng\n"
   ]
  },
  {
   "cell_type": "markdown",
   "metadata": {},
   "source": [
    "## 0. You will do the following:\n",
    "\n",
    "1. Read the lecture note: [click here](https://github.com/wangshusen/DeepLearning/blob/master/LectureNotes/Parallel/Parallel.pdf)\n",
    "\n",
    "2. Implement federated averaging or decentralized optimization.\n",
    "\n",
    "3. Plot the convergence curve. (The x-axis can be ```number of epochs``` or ```number of communication```. You must make sure the label is correct.)\n",
    "\n",
    "4. Convert the .IPYNB file to .HTML file.\n",
    "\n",
    "    * The HTML file must contain **the code** and **the output after execution**.\n",
    "    \n",
    "5. Upload this .HTML file to your Google Drive, Dropbox, or your Github repo. (If it is submitted to Google Drive or Dropbox, you must make the file open-access.)\n",
    "\n",
    "6. Submit the link to this .HTML file to Canvas.\n",
    "\n",
    "    * Example: https://github.com/wangshusen/CS583-2020S/blob/master/homework/Bonus1/Bonus1.html\n",
    "\n"
   ]
  },
  {
   "cell_type": "code",
   "execution_count": null,
   "metadata": {},
   "outputs": [],
   "source": []
  },
  {
   "cell_type": "markdown",
   "metadata": {},
   "source": [
    "# 1. Data processing\n",
    "\n",
    "- Download the Diabete dataset from https://www.csie.ntu.edu.tw/~cjlin/libsvmtools/datasets/binary/diabetes\n",
    "- Load the data using sklearn.\n",
    "- Preprocess the data."
   ]
  },
  {
   "cell_type": "markdown",
   "metadata": {},
   "source": [
    "## 1.1. Load the data"
   ]
  },
  {
   "cell_type": "code",
   "execution_count": 1,
   "metadata": {},
   "outputs": [
    {
     "name": "stdout",
     "output_type": "stream",
     "text": [
      "Shape of x: (768, 8)\n",
      "Shape of y: (768,)\n"
     ]
    }
   ],
   "source": [
    "from sklearn import datasets\n",
    "import numpy\n",
    "\n",
    "x_sparse, y = datasets.load_svmlight_file('diabetes')\n",
    "x = x_sparse.todense()\n",
    "\n",
    "print('Shape of x: ' + str(x.shape))\n",
    "print('Shape of y: ' + str(y.shape))"
   ]
  },
  {
   "cell_type": "markdown",
   "metadata": {},
   "source": [
    "## 1.2. Partition to training and test sets"
   ]
  },
  {
   "cell_type": "code",
   "execution_count": 2,
   "metadata": {},
   "outputs": [
    {
     "name": "stdout",
     "output_type": "stream",
     "text": [
      "Shape of x_train: (640, 8)\n",
      "Shape of x_test: (128, 8)\n",
      "Shape of y_train: (640, 1)\n",
      "Shape of y_test: (128, 1)\n"
     ]
    }
   ],
   "source": [
    "# partition the data to training and test sets\n",
    "n = x.shape[0]\n",
    "n_train = 640\n",
    "n_test = n - n_train\n",
    "\n",
    "rand_indices = numpy.random.permutation(n)\n",
    "train_indices = rand_indices[0:n_train]\n",
    "test_indices = rand_indices[n_train:n]\n",
    "\n",
    "x_train = x[train_indices, :]\n",
    "x_test = x[test_indices, :]\n",
    "y_train = y[train_indices].reshape(n_train, 1)\n",
    "y_test = y[test_indices].reshape(n_test, 1)\n",
    "\n",
    "print('Shape of x_train: ' + str(x_train.shape))\n",
    "print('Shape of x_test: ' + str(x_test.shape))\n",
    "print('Shape of y_train: ' + str(y_train.shape))\n",
    "print('Shape of y_test: ' + str(y_test.shape))"
   ]
  },
  {
   "cell_type": "markdown",
   "metadata": {},
   "source": [
    "## 1.3. Feature scaling"
   ]
  },
  {
   "cell_type": "markdown",
   "metadata": {},
   "source": [
    "Use the standardization to trainsform both training and test features"
   ]
  },
  {
   "cell_type": "code",
   "execution_count": 3,
   "metadata": {},
   "outputs": [
    {
     "name": "stdout",
     "output_type": "stream",
     "text": [
      "test mean = \n",
      "[[ 0.02731399 -0.07612859 -0.08180088 -0.18243332  0.03285738 -0.15035012\n",
      "  -0.04080219  0.02343434]]\n",
      "test std = \n",
      "[[0.9858857  0.99667376 1.07689614 0.93742428 1.239963   1.21929535\n",
      "  1.06460598 1.04239512]]\n"
     ]
    }
   ],
   "source": [
    "# Standardization\n",
    "import numpy\n",
    "\n",
    "# calculate mu and sig using the training set\n",
    "d = x_train.shape[1]\n",
    "mu = numpy.mean(x_train, axis=0).reshape(1, d)\n",
    "sig = numpy.std(x_train, axis=0).reshape(1, d)\n",
    "\n",
    "# transform the training features\n",
    "x_train = (x_train - mu) / (sig + 1E-6)\n",
    "\n",
    "# transform the test features\n",
    "x_test = (x_test - mu) / (sig + 1E-6)\n",
    "\n",
    "print('test mean = ')\n",
    "print(numpy.mean(x_test, axis=0))\n",
    "\n",
    "print('test std = ')\n",
    "print(numpy.std(x_test, axis=0))"
   ]
  },
  {
   "cell_type": "markdown",
   "metadata": {},
   "source": [
    "## 1.4. Add a dimension of all ones"
   ]
  },
  {
   "cell_type": "code",
   "execution_count": 4,
   "metadata": {},
   "outputs": [
    {
     "name": "stdout",
     "output_type": "stream",
     "text": [
      "Shape of x_train: (640, 9)\n",
      "Shape of x_test: (128, 9)\n"
     ]
    }
   ],
   "source": [
    "n_train, d = x_train.shape\n",
    "x_train = numpy.concatenate((x_train, numpy.ones((n_train, 1))), axis=1)\n",
    "\n",
    "n_test, d = x_test.shape\n",
    "x_test = numpy.concatenate((x_test, numpy.ones((n_test, 1))), axis=1)\n",
    "\n",
    "print('Shape of x_train: ' + str(x_train.shape))\n",
    "print('Shape of x_test: ' + str(x_test.shape))"
   ]
  },
  {
   "cell_type": "code",
   "execution_count": 5,
   "metadata": {},
   "outputs": [],
   "source": [
    "class Worker:\n",
    "    def __init__(self, x, y, batch_size=-1, q=1):\n",
    "        self.x = x # s-by-d local feature matrix\n",
    "        self.y = y # s-by-1 local label matrix\n",
    "        self.s = x.shape[0] # number of local samples\n",
    "        self.d = x.shape[1] # number of features\n",
    "        self.w = numpy.zeros((d,1)) # d-by-1 model parameter vector\n",
    "        self.q = q\n",
    "        if batch_size == -1:\n",
    "            self.bs = self.s\n",
    "        else:\n",
    "            self.bs = batch_size\n",
    "        \n",
    "    def set_param(self, w):\n",
    "        self.w = w\n",
    "        \n",
    "    # Compute local loss\n",
    "    def loss(self):\n",
    "        yx = numpy.multiply(self.y, self.x) # s-by-d matrix\n",
    "        yxw = numpy.dot(yx, self.w) # s-by-1 matrix\n",
    "        vec1 = numpy.exp(-yxw) # s-by-1 matrix\n",
    "        vec2 = numpy.log(1 + vec1) # s-by-1 matrix\n",
    "        return numpy.sum(vec2) # loss function\n",
    "    \n",
    "    # Compute local gradient\n",
    "    def gradient(self): \n",
    "        batches = int(self.s / self.bs)\n",
    "        g = 0\n",
    "        for _ in range(self.q):\n",
    "            for batch_number in range(0, batches):\n",
    "                batch = range(batch_number * self.bs, (batch_number + 1) * self.bs)\n",
    "                yx = numpy.multiply(self.y[batch], self.x[batch]) # s-by-d matrix\n",
    "                yxw = numpy.dot(yx, self.w) #s-by-1\n",
    "                vec1 = numpy.exp(yxw) # s-by-1 matrix\n",
    "                vec2 = numpy.divide(yx,1+vec1) # s-by-d matrix\n",
    "                g = g - numpy.sum(vec2, axis=0).reshape(self.d, 1) # d-by-1 matrix\n",
    "            g /= batches\n",
    "        \n",
    "        return g"
   ]
  },
  {
   "cell_type": "code",
   "execution_count": 6,
   "metadata": {},
   "outputs": [],
   "source": [
    "class Server:\n",
    "    def __init__(self, m, n, d):\n",
    "        self.m = m # number of worker nodes\n",
    "        self.n = n # number of training samples\n",
    "        self.d = d # number of features\n",
    "        self.w = numpy.zeros((d, 1)) # d-by-1 model parameter vector\n",
    "        self.g = numpy.zeros((d, 1)) # d-by-1 gradient\n",
    "        self.v = numpy.zeros((d, 1)) # d-by-1 momentum\n",
    "        self.los = 0 # loss function value\n",
    "        self.obj = 0 # objective function value\n",
    "        \n",
    "    def broadcast(self):\n",
    "        return self.w\n",
    "    \n",
    "    # Sum gradients and loss functions evaluated by workers\n",
    "    # Args:\n",
    "    #   grads: a list of d-by-1 vectors\n",
    "    #   losses: a list of scalars\n",
    "    def aggregate(self, grads, losses):\n",
    "        self.g = numpy.zeros((self.d, 1))\n",
    "        self.loss = 0\n",
    "        for k in range(self.m):\n",
    "            self.g += grads[k]\n",
    "            self.loss += losses[k]\n",
    "            \n",
    "    # Compute gradient  (from the loss and regularization)\n",
    "    def gradient(self, lam):\n",
    "        self.g = self.g / self.n + lam * self.w\n",
    "        \n",
    "    # Compute the objective function (sum of loss and regularization)\n",
    "    def objective(self, lam):\n",
    "        reg = lam / 2 * numpy.sum(self.w * self.w)\n",
    "        self.obj = self.loss / self.n + reg\n",
    "        return self.obj\n",
    "    \n",
    "    # Update the model parameters using accelerated gradient descent\n",
    "    # Args:\n",
    "    #     alpha: learning rate (step size)\n",
    "    #     beta: momentum parameter\n",
    "    def agd(self, alpha, beta):\n",
    "        self.v *= beta\n",
    "        self.v += self.g\n",
    "        self.w -= alpha * self.v\n",
    "        \n",
    "        \n"
   ]
  },
  {
   "cell_type": "code",
   "execution_count": 7,
   "metadata": {},
   "outputs": [],
   "source": [
    "import math\n",
    "\n",
    "# Create a server and m worker nodes\n",
    "def create_server_workers(m, x, y, batch_size, q):\n",
    "    n, d = x.shape\n",
    "    s = math.floor(n / m)\n",
    "    server = Server(m, n, d)\n",
    "    workers = []\n",
    "    \n",
    "    \n",
    "    for i in range(m):\n",
    "        indices = list(range(i*s, (i + 1) * s))\n",
    "        worker = Worker(x[indices, :], y[indices, :], batch_size=batch_size, q=q)\n",
    "        workers.append(worker)\n",
    "        \n",
    "    return server, workers"
   ]
  },
  {
   "cell_type": "code",
   "execution_count": 8,
   "metadata": {},
   "outputs": [],
   "source": [
    "m = 4 # num of worker nodes\n",
    "serv_work = []\n",
    "\n",
    "# list of tuples. The first element is batch amount, second is q level\n",
    "arguments=[(-1, 1), (-1,8), (1, 1), (1,8)]\n",
    "\n",
    "for batch_size, q in arguments:\n",
    "#     batch_size = arguments[i][0]\n",
    "#     q = arguments[i][1]\n",
    "    server, workers = create_server_workers(m, x_train, y_train, batch_size, q)\n",
    "    serv_work.append((server, workers))\n"
   ]
  },
  {
   "cell_type": "code",
   "execution_count": 9,
   "metadata": {},
   "outputs": [],
   "source": [
    "lam = 1E-6 # regularization parameter\n",
    "alpha = 1E-1 # learning rate\n",
    "beta = 0.9 # momentum parameter\n",
    "max_epoch = 50\n",
    "\n",
    "results = []\n",
    "for server, worker in serv_work:\n",
    "    obj_total = []\n",
    "    for t in range(max_epoch):\n",
    "        # step 1: broadcast\n",
    "        w = server.broadcast()\n",
    "        for i in range(m):\n",
    "            workers[i].set_param(w)\n",
    "\n",
    "        # step 2: workers' local computations\n",
    "        grads = []\n",
    "        losses = []\n",
    "        for i in range (m):\n",
    "            g = workers[i].gradient()\n",
    "            grads.append(g)\n",
    "            l = workers[i].loss()\n",
    "            losses.append(l)\n",
    "\n",
    "        # step 3: aggregate the workers' outputs\n",
    "        server.aggregate(grads, losses)\n",
    "\n",
    "        # step 4: server update the model parameters\n",
    "        server.gradient(lam) # compute gradient\n",
    "        obj = server.objective(lam) # compute objective function\n",
    "        #print('Objective function value = ' + str(obj))\n",
    "        server.agd(alpha, beta) # updates the model parameters\n",
    "        obj_total.append(obj)\n",
    "    results.append(obj_total)\n",
    "        "
   ]
  },
  {
   "cell_type": "code",
   "execution_count": 12,
   "metadata": {},
   "outputs": [
    {
     "data": {
      "image/png": "[encoded data removed]",
      "text/plain": [
       "<Figure size 432x288 with 1 Axes>"
      ]
     },
     "metadata": {
      "needs_background": "light"
     },
     "output_type": "display_data"
    }
   ],
   "source": [
    "import matplotlib.pyplot as plt\n",
    "\n",
    "for i, result in enumerate(results):\n",
    "    if arguments[i][0] == 1:\n",
    "        label = 'SGD q='\n",
    "    else:\n",
    "        label = 'GD q='\n",
    "    label += str(arguments[i][1])\n",
    "    plt.plot(range(max_epoch), result, label=label)\n",
    "plt.title('Training Loss over epochs')\n",
    "plt.ylabel('Training Loss')\n",
    "plt.xlabel('Epochs')\n",
    "plt.legend()\n",
    "plt.show()"
   ]
  },
  {
   "cell_type": "markdown",
   "metadata": {},
   "source": [
    "The training loss for each trial is the exact same even though the changes I made should have different results. I will try to figure this out after the deadline."
   ]
  }
 ],
 "metadata": {
  "kernelspec": {
   "display_name": "Python 3",
   "language": "python",
   "name": "python3"
  },
  "language_info": {
   "codemirror_mode": {
    "name": "ipython",
    "version": 3
   },
   "file_extension": ".py",
   "mimetype": "text/x-python",
   "name": "python",
   "nbconvert_exporter": "python",
   "pygments_lexer": "ipython3",
   "version": "3.8.3"
  }
 },
 "nbformat": 4,
 "nbformat_minor": 2
}
